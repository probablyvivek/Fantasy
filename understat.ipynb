{
 "cells": [
  {
   "cell_type": "markdown",
   "metadata": {},
   "source": [
    "Import Libraries"
   ]
  },
  {
   "cell_type": "code",
   "execution_count": 186,
   "metadata": {},
   "outputs": [],
   "source": [
    "import pandas as pd\n",
    "import warnings\n",
    "warnings.filterwarnings(\"ignore\")\n",
    "pd.set_option('display.max_rows', None)\n",
    "pd.set_option('display.max_columns', None)"
   ]
  },
  {
   "cell_type": "markdown",
   "metadata": {},
   "source": [
    "Get the Understat_ID of the players from the below link"
   ]
  },
  {
   "cell_type": "code",
   "execution_count": 187,
   "metadata": {},
   "outputs": [
    {
     "data": {
      "text/plain": [
       "Index(['Understat_ID', 'FPL_ID', 'Understat_Name', 'FPL_Name'], dtype='object')"
      ]
     },
     "execution_count": 187,
     "metadata": {},
     "output_type": "execute_result"
    }
   ],
   "source": [
    "\n",
    "url = \"https://github.com/vaastav/Fantasy-Premier-League/blob/master/data/2022-23/id_dict.csv?raw=true\"\n",
    "df_understat = pd.read_csv(url)\n",
    "\n",
    "#Clean the column names\n",
    "df_understat.columns = df_understat.columns.str.replace(' ', '')\n",
    "\n",
    "#Get the column names\n",
    "df_understat.columns"
   ]
  },
  {
   "cell_type": "markdown",
   "metadata": {},
   "source": [
    "Get the Fpl Data which has been scrapped using FPL API"
   ]
  },
  {
   "cell_type": "code",
   "execution_count": 188,
   "metadata": {},
   "outputs": [
    {
     "data": {
      "text/plain": [
       "Index(['Team', 'Player ID', 'First Name', 'Second Name', 'Web Name',\n",
       "       'Position', 'Start Price', 'Current Price', 'Selected By',\n",
       "       'Transfers In', 'Transfers Out', 'Total Points', 'Bonus', 'Minutes',\n",
       "       'Goals Scored', 'Assists', 'Clean Sheets', 'Status', 'Form'],\n",
       "      dtype='object')"
      ]
     },
     "execution_count": 188,
     "metadata": {},
     "output_type": "execute_result"
    }
   ],
   "source": [
    "df_fpl = pd.read_excel('First_Draft.xlsx')\n",
    "\n",
    "#Get the column names\n",
    "df_fpl.columns"
   ]
  },
  {
   "cell_type": "code",
   "execution_count": 189,
   "metadata": {},
   "outputs": [
    {
     "data": {
      "text/plain": [
       "Index(['Team', 'Player ID', 'First Name', 'Second Name', 'Web Name',\n",
       "       'Position', 'Start Price', 'Current Price', 'Selected By',\n",
       "       'Transfers In', 'Transfers Out', 'Total Points', 'Bonus', 'Minutes',\n",
       "       'Goals Scored', 'Assists', 'Clean Sheets', 'Status', 'Form',\n",
       "       'Understat_ID', 'FPL_ID', 'Understat_Name', 'FPL_Name'],\n",
       "      dtype='object')"
      ]
     },
     "execution_count": 189,
     "metadata": {},
     "output_type": "execute_result"
    }
   ],
   "source": [
    "# Merge df_fpl and df_understat using the player_id column and _FPL_id column\n",
    "df_fpl_understat = pd.merge(df_fpl, df_understat, left_on = \"Player ID\", right_on = \"FPL_ID\")\n",
    "\n",
    "#Get the column names\n",
    "df_fpl_understat.columns\n"
   ]
  },
  {
   "cell_type": "code",
   "execution_count": 190,
   "metadata": {},
   "outputs": [],
   "source": [
    "#keep only Understat_ID \n",
    "df_fpl_understat = df_fpl_understat[['Team', 'Player ID', 'First Name', 'Second Name', 'Web Name',\n",
    "    'Position', 'Start Price', 'Current Price', 'Selected By',\n",
    "    'Transfers In', 'Transfers Out', 'Form', 'Total Points', 'Bonus', 'Minutes',\n",
    "    'Goals Scored', 'Assists', 'Clean Sheets', 'Status', 'Understat_ID']]\n",
    "\n",
    "#convert Understat_ID to int\n",
    "df_fpl_understat['Understat_ID'] = df_fpl_understat['Understat_ID'].astype(int)"
   ]
  },
  {
   "cell_type": "markdown",
   "metadata": {},
   "source": [
    "pip install undetstatapi and import UnderstatClient"
   ]
  },
  {
   "cell_type": "code",
   "execution_count": 191,
   "metadata": {},
   "outputs": [
    {
     "data": {
      "text/plain": [
       "Index(['id', 'player_name', 'games', 'time', 'goals', 'xG', 'assists', 'xA',\n",
       "       'shots', 'key_passes', 'yellow_cards', 'red_cards', 'position',\n",
       "       'team_title', 'npg', 'npxG', 'xGChain', 'xGBuildup'],\n",
       "      dtype='object')"
      ]
     },
     "execution_count": 191,
     "metadata": {},
     "output_type": "execute_result"
    }
   ],
   "source": [
    "from understatapi import UnderstatClient\n",
    "understat = UnderstatClient()\n",
    "\n",
    "#Change Season to 2022 when the season starts on 5th August\n",
    "league_player_data = understat.league(league=\"EPL\").get_player_data(season=\"2021\")\n",
    "\n",
    "# convert to pandas dataframe\n",
    "league_player_data = pd.DataFrame(league_player_data)\n",
    "league_player_data.columns"
   ]
  },
  {
   "cell_type": "code",
   "execution_count": 192,
   "metadata": {},
   "outputs": [],
   "source": [
    "#convert columns to int\n",
    "league_player_data['id'] = league_player_data['id'].astype(int)\n",
    "league_player_data['xG'] = league_player_data['xG'].astype(float)\n",
    "league_player_data['xA'] = league_player_data['xA'].astype(float)\n",
    "league_player_data['npxG'] = league_player_data['npxG'].astype(float)\n",
    "league_player_data['xGChain'] = league_player_data['xGChain'].astype(float)\n",
    "league_player_data['xGBuildup'] = league_player_data['xGBuildup'].astype(float)\n",
    "league_player_data['shots'] = league_player_data['shots'].astype(int)\n",
    "league_player_data['key_passes'] = league_player_data['key_passes'].astype(int)\n"
   ]
  },
  {
   "cell_type": "code",
   "execution_count": 193,
   "metadata": {},
   "outputs": [],
   "source": [
    "#merge with df_merged\n",
    "final_df= pd.merge(df_fpl_understat, league_player_data, left_on = \"Understat_ID\", right_on = \"id\")"
   ]
  },
  {
   "cell_type": "code",
   "execution_count": 194,
   "metadata": {},
   "outputs": [
    {
     "data": {
      "text/plain": [
       "Index(['Team', 'Player ID', 'First Name', 'Second Name', 'Web Name',\n",
       "       'Position', 'Start Price', 'Current Price', 'Selected By',\n",
       "       'Transfers In', 'Transfers Out', 'Form', 'Total Points', 'Bonus',\n",
       "       'Minutes', 'Goals Scored', 'Assists', 'Clean Sheets', 'Status',\n",
       "       'Understat_ID', 'id', 'player_name', 'games', 'time', 'goals', 'xG',\n",
       "       'assists', 'xA', 'shots', 'key_passes', 'yellow_cards', 'red_cards',\n",
       "       'position', 'team_title', 'npg', 'npxG', 'xGChain', 'xGBuildup'],\n",
       "      dtype='object')"
      ]
     },
     "execution_count": 194,
     "metadata": {},
     "output_type": "execute_result"
    }
   ],
   "source": [
    "final_df.columns"
   ]
  },
  {
   "cell_type": "code",
   "execution_count": 195,
   "metadata": {},
   "outputs": [],
   "source": [
    "final_df = final_df[['Player ID', 'Understat_ID','Team', 'First Name', 'Second Name', 'Web Name',\n",
    "    'Position', 'Start Price', 'Current Price', 'Selected By',\n",
    "    'Transfers In', 'Transfers Out', 'Form', 'Total Points', 'Bonus', 'games', 'Minutes',\n",
    "    'Goals Scored', 'xG', 'Assists', 'xA', 'npxG', 'xGChain', 'xGBuildup', 'Clean Sheets', 'Status']]"
   ]
  },
  {
   "cell_type": "code",
   "execution_count": 196,
   "metadata": {},
   "outputs": [],
   "source": [
    "#all numeric number to round to 2 decimal places\n",
    "final_df = final_df.round(2)"
   ]
  },
  {
   "cell_type": "code",
   "execution_count": 197,
   "metadata": {},
   "outputs": [
    {
     "data": {
      "text/plain": [
       "Index(['Player ID', 'Understat_ID', 'Team', 'First Name', 'Second Name',\n",
       "       'Web Name', 'Position', 'Start Price', 'Current Price', 'Selected By',\n",
       "       'Transfers In', 'Transfers Out', 'Form', 'Total Points', 'Bonus',\n",
       "       'games', 'Minutes', 'Goals Scored', 'xG', 'Assists', 'xA', 'npxG',\n",
       "       'xGChain', 'xGBuildup', 'Clean Sheets', 'Status'],\n",
       "      dtype='object')"
      ]
     },
     "execution_count": 197,
     "metadata": {},
     "output_type": "execute_result"
    }
   ],
   "source": [
    "final_df.columns"
   ]
  },
  {
   "cell_type": "code",
   "execution_count": 198,
   "metadata": {},
   "outputs": [],
   "source": [
    "#rename columns\n",
    "final_df.columns = ['Player ID', 'Understat_ID','Team', 'First Name', 'Second Name', 'Web Name',\n",
    "    'Position', 'Start Price', 'Current Price', 'Selected By', 'Transfers In', 'Transfers Out', 'Form','Total Points', 'Bonus', 'Matches', 'Minutes', 'Goals Scored', 'xG', 'Assists', 'xA', 'npxG','xGChain', 'xGBuildup', 'Clean Sheets', 'Status']"
   ]
  },
  {
   "cell_type": "code",
   "execution_count": 199,
   "metadata": {},
   "outputs": [
    {
     "data": {
      "text/html": [
       "<div>\n",
       "<style scoped>\n",
       "    .dataframe tbody tr th:only-of-type {\n",
       "        vertical-align: middle;\n",
       "    }\n",
       "\n",
       "    .dataframe tbody tr th {\n",
       "        vertical-align: top;\n",
       "    }\n",
       "\n",
       "    .dataframe thead th {\n",
       "        text-align: right;\n",
       "    }\n",
       "</style>\n",
       "<table border=\"1\" class=\"dataframe\">\n",
       "  <thead>\n",
       "    <tr style=\"text-align: right;\">\n",
       "      <th></th>\n",
       "      <th>Player ID</th>\n",
       "      <th>Understat_ID</th>\n",
       "      <th>Team</th>\n",
       "      <th>First Name</th>\n",
       "      <th>Second Name</th>\n",
       "      <th>Web Name</th>\n",
       "      <th>Position</th>\n",
       "      <th>Start Price</th>\n",
       "      <th>Current Price</th>\n",
       "      <th>Selected By</th>\n",
       "      <th>Transfers In</th>\n",
       "      <th>Transfers Out</th>\n",
       "      <th>Form</th>\n",
       "      <th>Total Points</th>\n",
       "      <th>Bonus</th>\n",
       "      <th>Matches</th>\n",
       "      <th>Minutes</th>\n",
       "      <th>Goals Scored</th>\n",
       "      <th>xG</th>\n",
       "      <th>Assists</th>\n",
       "      <th>xA</th>\n",
       "      <th>npxG</th>\n",
       "      <th>xGChain</th>\n",
       "      <th>xGBuildup</th>\n",
       "      <th>Clean Sheets</th>\n",
       "      <th>Status</th>\n",
       "    </tr>\n",
       "  </thead>\n",
       "  <tbody>\n",
       "    <tr>\n",
       "      <th>22</th>\n",
       "      <td>28</td>\n",
       "      <td>5543</td>\n",
       "      <td>Arsenal</td>\n",
       "      <td>Gabriel</td>\n",
       "      <td>Fernando de Jesus</td>\n",
       "      <td>Jesus</td>\n",
       "      <td>Forward</td>\n",
       "      <td>0</td>\n",
       "      <td>8.0</td>\n",
       "      <td>70.8</td>\n",
       "      <td>0</td>\n",
       "      <td>0</td>\n",
       "      <td>0.0</td>\n",
       "      <td>120</td>\n",
       "      <td>16</td>\n",
       "      <td>28</td>\n",
       "      <td>1871</td>\n",
       "      <td>8</td>\n",
       "      <td>10.15</td>\n",
       "      <td>8</td>\n",
       "      <td>5.91</td>\n",
       "      <td>9.39</td>\n",
       "      <td>19.49</td>\n",
       "      <td>6.35</td>\n",
       "      <td>11</td>\n",
       "      <td>a</td>\n",
       "    </tr>\n",
       "    <tr>\n",
       "      <th>217</th>\n",
       "      <td>283</td>\n",
       "      <td>1250</td>\n",
       "      <td>Liverpool</td>\n",
       "      <td>Mohamed</td>\n",
       "      <td>Salah</td>\n",
       "      <td>Salah</td>\n",
       "      <td>Midfielder</td>\n",
       "      <td>0</td>\n",
       "      <td>13.0</td>\n",
       "      <td>58.8</td>\n",
       "      <td>0</td>\n",
       "      <td>0</td>\n",
       "      <td>0.0</td>\n",
       "      <td>265</td>\n",
       "      <td>29</td>\n",
       "      <td>35</td>\n",
       "      <td>2758</td>\n",
       "      <td>23</td>\n",
       "      <td>24.36</td>\n",
       "      <td>14</td>\n",
       "      <td>9.79</td>\n",
       "      <td>19.80</td>\n",
       "      <td>32.16</td>\n",
       "      <td>11.22</td>\n",
       "      <td>17</td>\n",
       "      <td>a</td>\n",
       "    </tr>\n",
       "    <tr>\n",
       "      <th>219</th>\n",
       "      <td>285</td>\n",
       "      <td>1791</td>\n",
       "      <td>Liverpool</td>\n",
       "      <td>Trent</td>\n",
       "      <td>Alexander-Arnold</td>\n",
       "      <td>Alexander-Arnold</td>\n",
       "      <td>Defender</td>\n",
       "      <td>0</td>\n",
       "      <td>7.5</td>\n",
       "      <td>57.0</td>\n",
       "      <td>0</td>\n",
       "      <td>0</td>\n",
       "      <td>0.0</td>\n",
       "      <td>208</td>\n",
       "      <td>32</td>\n",
       "      <td>32</td>\n",
       "      <td>2853</td>\n",
       "      <td>2</td>\n",
       "      <td>2.19</td>\n",
       "      <td>12</td>\n",
       "      <td>12.69</td>\n",
       "      <td>2.19</td>\n",
       "      <td>21.09</td>\n",
       "      <td>11.99</td>\n",
       "      <td>18</td>\n",
       "      <td>a</td>\n",
       "    </tr>\n",
       "    <tr>\n",
       "      <th>235</th>\n",
       "      <td>306</td>\n",
       "      <td>2379</td>\n",
       "      <td>Manchester City</td>\n",
       "      <td>João</td>\n",
       "      <td>Cancelo</td>\n",
       "      <td>Cancelo</td>\n",
       "      <td>Defender</td>\n",
       "      <td>0</td>\n",
       "      <td>7.0</td>\n",
       "      <td>44.9</td>\n",
       "      <td>0</td>\n",
       "      <td>0</td>\n",
       "      <td>0.0</td>\n",
       "      <td>201</td>\n",
       "      <td>27</td>\n",
       "      <td>36</td>\n",
       "      <td>3227</td>\n",
       "      <td>1</td>\n",
       "      <td>4.54</td>\n",
       "      <td>11</td>\n",
       "      <td>6.01</td>\n",
       "      <td>4.54</td>\n",
       "      <td>26.89</td>\n",
       "      <td>21.15</td>\n",
       "      <td>19</td>\n",
       "      <td>a</td>\n",
       "    </tr>\n",
       "    <tr>\n",
       "      <th>111</th>\n",
       "      <td>146</td>\n",
       "      <td>8067</td>\n",
       "      <td>Chelsea</td>\n",
       "      <td>Reece</td>\n",
       "      <td>James</td>\n",
       "      <td>James</td>\n",
       "      <td>Defender</td>\n",
       "      <td>0</td>\n",
       "      <td>6.0</td>\n",
       "      <td>39.7</td>\n",
       "      <td>0</td>\n",
       "      <td>0</td>\n",
       "      <td>0.0</td>\n",
       "      <td>141</td>\n",
       "      <td>26</td>\n",
       "      <td>26</td>\n",
       "      <td>1863</td>\n",
       "      <td>5</td>\n",
       "      <td>2.54</td>\n",
       "      <td>9</td>\n",
       "      <td>7.03</td>\n",
       "      <td>2.54</td>\n",
       "      <td>15.98</td>\n",
       "      <td>11.94</td>\n",
       "      <td>7</td>\n",
       "      <td>a</td>\n",
       "    </tr>\n",
       "    <tr>\n",
       "      <th>297</th>\n",
       "      <td>295</td>\n",
       "      <td>8204</td>\n",
       "      <td>Nottingham Forest</td>\n",
       "      <td>Neco</td>\n",
       "      <td>Williams</td>\n",
       "      <td>N.Williams</td>\n",
       "      <td>Defender</td>\n",
       "      <td>0</td>\n",
       "      <td>4.0</td>\n",
       "      <td>27.2</td>\n",
       "      <td>0</td>\n",
       "      <td>0</td>\n",
       "      <td>0.0</td>\n",
       "      <td>4</td>\n",
       "      <td>0</td>\n",
       "      <td>1</td>\n",
       "      <td>7</td>\n",
       "      <td>0</td>\n",
       "      <td>0.00</td>\n",
       "      <td>1</td>\n",
       "      <td>0.60</td>\n",
       "      <td>0.00</td>\n",
       "      <td>0.60</td>\n",
       "      <td>0.60</td>\n",
       "      <td>0</td>\n",
       "      <td>a</td>\n",
       "    </tr>\n",
       "    <tr>\n",
       "      <th>324</th>\n",
       "      <td>428</td>\n",
       "      <td>453</td>\n",
       "      <td>Tottenham</td>\n",
       "      <td>Son</td>\n",
       "      <td>Heung-min</td>\n",
       "      <td>Son</td>\n",
       "      <td>Midfielder</td>\n",
       "      <td>0</td>\n",
       "      <td>12.0</td>\n",
       "      <td>25.7</td>\n",
       "      <td>0</td>\n",
       "      <td>0</td>\n",
       "      <td>0.0</td>\n",
       "      <td>258</td>\n",
       "      <td>27</td>\n",
       "      <td>35</td>\n",
       "      <td>3009</td>\n",
       "      <td>23</td>\n",
       "      <td>16.99</td>\n",
       "      <td>10</td>\n",
       "      <td>7.85</td>\n",
       "      <td>16.99</td>\n",
       "      <td>29.62</td>\n",
       "      <td>10.34</td>\n",
       "      <td>18</td>\n",
       "      <td>a</td>\n",
       "    </tr>\n",
       "    <tr>\n",
       "      <th>323</th>\n",
       "      <td>427</td>\n",
       "      <td>647</td>\n",
       "      <td>Tottenham</td>\n",
       "      <td>Harry</td>\n",
       "      <td>Kane</td>\n",
       "      <td>Kane</td>\n",
       "      <td>Forward</td>\n",
       "      <td>0</td>\n",
       "      <td>11.5</td>\n",
       "      <td>25.6</td>\n",
       "      <td>0</td>\n",
       "      <td>0</td>\n",
       "      <td>0.0</td>\n",
       "      <td>192</td>\n",
       "      <td>23</td>\n",
       "      <td>37</td>\n",
       "      <td>3231</td>\n",
       "      <td>17</td>\n",
       "      <td>20.69</td>\n",
       "      <td>11</td>\n",
       "      <td>9.82</td>\n",
       "      <td>17.64</td>\n",
       "      <td>31.89</td>\n",
       "      <td>9.81</td>\n",
       "      <td>14</td>\n",
       "      <td>a</td>\n",
       "    </tr>\n",
       "    <tr>\n",
       "      <th>201</th>\n",
       "      <td>237</td>\n",
       "      <td>9493</td>\n",
       "      <td>Leeds United</td>\n",
       "      <td>Sam</td>\n",
       "      <td>Greenwood</td>\n",
       "      <td>Greenwood</td>\n",
       "      <td>Forward</td>\n",
       "      <td>0</td>\n",
       "      <td>4.5</td>\n",
       "      <td>25.5</td>\n",
       "      <td>0</td>\n",
       "      <td>0</td>\n",
       "      <td>0.0</td>\n",
       "      <td>15</td>\n",
       "      <td>0</td>\n",
       "      <td>7</td>\n",
       "      <td>231</td>\n",
       "      <td>0</td>\n",
       "      <td>0.23</td>\n",
       "      <td>2</td>\n",
       "      <td>0.43</td>\n",
       "      <td>0.23</td>\n",
       "      <td>1.23</td>\n",
       "      <td>0.67</td>\n",
       "      <td>0</td>\n",
       "      <td>a</td>\n",
       "    </tr>\n",
       "    <tr>\n",
       "      <th>227</th>\n",
       "      <td>293</td>\n",
       "      <td>10408</td>\n",
       "      <td>Liverpool</td>\n",
       "      <td>Luis</td>\n",
       "      <td>Díaz</td>\n",
       "      <td>Luis Díaz</td>\n",
       "      <td>Midfielder</td>\n",
       "      <td>0</td>\n",
       "      <td>8.0</td>\n",
       "      <td>24.4</td>\n",
       "      <td>0</td>\n",
       "      <td>0</td>\n",
       "      <td>0.0</td>\n",
       "      <td>64</td>\n",
       "      <td>6</td>\n",
       "      <td>13</td>\n",
       "      <td>957</td>\n",
       "      <td>4</td>\n",
       "      <td>4.28</td>\n",
       "      <td>3</td>\n",
       "      <td>2.18</td>\n",
       "      <td>4.28</td>\n",
       "      <td>8.96</td>\n",
       "      <td>3.45</td>\n",
       "      <td>6</td>\n",
       "      <td>a</td>\n",
       "    </tr>\n",
       "  </tbody>\n",
       "</table>\n",
       "</div>"
      ],
      "text/plain": [
       "     Player ID  Understat_ID               Team First Name        Second Name  \\\n",
       "22          28          5543            Arsenal    Gabriel  Fernando de Jesus   \n",
       "217        283          1250          Liverpool    Mohamed              Salah   \n",
       "219        285          1791          Liverpool      Trent   Alexander-Arnold   \n",
       "235        306          2379    Manchester City       João            Cancelo   \n",
       "111        146          8067            Chelsea      Reece              James   \n",
       "297        295          8204  Nottingham Forest       Neco           Williams   \n",
       "324        428           453          Tottenham        Son          Heung-min   \n",
       "323        427           647          Tottenham      Harry               Kane   \n",
       "201        237          9493       Leeds United        Sam          Greenwood   \n",
       "227        293         10408          Liverpool       Luis               Díaz   \n",
       "\n",
       "             Web Name    Position  Start Price  Current Price  Selected By  \\\n",
       "22              Jesus     Forward            0            8.0         70.8   \n",
       "217             Salah  Midfielder            0           13.0         58.8   \n",
       "219  Alexander-Arnold    Defender            0            7.5         57.0   \n",
       "235           Cancelo    Defender            0            7.0         44.9   \n",
       "111             James    Defender            0            6.0         39.7   \n",
       "297        N.Williams    Defender            0            4.0         27.2   \n",
       "324               Son  Midfielder            0           12.0         25.7   \n",
       "323              Kane     Forward            0           11.5         25.6   \n",
       "201         Greenwood     Forward            0            4.5         25.5   \n",
       "227         Luis Díaz  Midfielder            0            8.0         24.4   \n",
       "\n",
       "     Transfers In  Transfers Out  Form  Total Points  Bonus Matches  Minutes  \\\n",
       "22              0              0   0.0           120     16      28     1871   \n",
       "217             0              0   0.0           265     29      35     2758   \n",
       "219             0              0   0.0           208     32      32     2853   \n",
       "235             0              0   0.0           201     27      36     3227   \n",
       "111             0              0   0.0           141     26      26     1863   \n",
       "297             0              0   0.0             4      0       1        7   \n",
       "324             0              0   0.0           258     27      35     3009   \n",
       "323             0              0   0.0           192     23      37     3231   \n",
       "201             0              0   0.0            15      0       7      231   \n",
       "227             0              0   0.0            64      6      13      957   \n",
       "\n",
       "     Goals Scored     xG  Assists     xA   npxG  xGChain  xGBuildup  \\\n",
       "22              8  10.15        8   5.91   9.39    19.49       6.35   \n",
       "217            23  24.36       14   9.79  19.80    32.16      11.22   \n",
       "219             2   2.19       12  12.69   2.19    21.09      11.99   \n",
       "235             1   4.54       11   6.01   4.54    26.89      21.15   \n",
       "111             5   2.54        9   7.03   2.54    15.98      11.94   \n",
       "297             0   0.00        1   0.60   0.00     0.60       0.60   \n",
       "324            23  16.99       10   7.85  16.99    29.62      10.34   \n",
       "323            17  20.69       11   9.82  17.64    31.89       9.81   \n",
       "201             0   0.23        2   0.43   0.23     1.23       0.67   \n",
       "227             4   4.28        3   2.18   4.28     8.96       3.45   \n",
       "\n",
       "     Clean Sheets Status  \n",
       "22             11      a  \n",
       "217            17      a  \n",
       "219            18      a  \n",
       "235            19      a  \n",
       "111             7      a  \n",
       "297             0      a  \n",
       "324            18      a  \n",
       "323            14      a  \n",
       "201             0      a  \n",
       "227             6      a  "
      ]
     },
     "execution_count": 199,
     "metadata": {},
     "output_type": "execute_result"
    }
   ],
   "source": [
    "#sort by Selected By and Total Points\n",
    "final_df = final_df.sort_values(by=['Selected By', 'Total Points'], ascending=False)\n",
    "final_df.head(10)"
   ]
  },
  {
   "cell_type": "code",
   "execution_count": null,
   "metadata": {},
   "outputs": [],
   "source": []
  }
 ],
 "metadata": {
  "kernelspec": {
   "display_name": "Python 3.8.8 ('base')",
   "language": "python",
   "name": "python3"
  },
  "language_info": {
   "codemirror_mode": {
    "name": "ipython",
    "version": 3
   },
   "file_extension": ".py",
   "mimetype": "text/x-python",
   "name": "python",
   "nbconvert_exporter": "python",
   "pygments_lexer": "ipython3",
   "version": "3.8.8"
  },
  "orig_nbformat": 4,
  "vscode": {
   "interpreter": {
    "hash": "40d3a090f54c6569ab1632332b64b2c03c39dcf918b08424e98f38b5ae0af88f"
   }
  }
 },
 "nbformat": 4,
 "nbformat_minor": 2
}
