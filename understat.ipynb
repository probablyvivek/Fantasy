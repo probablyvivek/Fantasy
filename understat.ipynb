{
 "cells": [
  {
   "cell_type": "markdown",
   "metadata": {},
   "source": [
    "Import Libraries"
   ]
  },
  {
   "cell_type": "code",
   "execution_count": 1,
   "metadata": {},
   "outputs": [],
   "source": [
    "import pandas as pd\n",
    "import warnings\n",
    "warnings.filterwarnings(\"ignore\")\n",
    "pd.set_option('display.max_rows', None)\n",
    "pd.set_option('display.max_columns', None)"
   ]
  },
  {
   "cell_type": "markdown",
   "metadata": {},
   "source": [
    "Get the Understat_ID of the players from the below link"
   ]
  },
  {
   "cell_type": "code",
   "execution_count": 2,
   "metadata": {},
   "outputs": [
    {
     "data": {
      "text/plain": [
       "Index(['Understat_ID', 'FPL_ID', 'Understat_Name', 'FPL_Name'], dtype='object')"
      ]
     },
     "execution_count": 2,
     "metadata": {},
     "output_type": "execute_result"
    }
   ],
   "source": [
    "\n",
    "url = \"https://github.com/vaastav/Fantasy-Premier-League/blob/master/data/2022-23/id_dict.csv?raw=true\"\n",
    "df_understat = pd.read_csv(url)\n",
    "\n",
    "#Clean the column names\n",
    "df_understat.columns = df_understat.columns.str.replace(' ', '')\n",
    "\n",
    "#Get the column names\n",
    "df_understat.columns"
   ]
  },
  {
   "cell_type": "markdown",
   "metadata": {},
   "source": [
    "Get the Fpl Data which has been scrapped using FPL API"
   ]
  },
  {
   "cell_type": "code",
   "execution_count": 3,
   "metadata": {},
   "outputs": [
    {
     "data": {
      "text/plain": [
       "Index(['Team', 'Player ID', 'First Name', 'Second Name', 'Web Name',\n",
       "       'Position', 'Start Price', 'Current Price', 'Selected By',\n",
       "       'Transfers In', 'Transfers Out', 'Total Points', 'Bonus', 'Minutes',\n",
       "       'Goals Scored', 'Assists', 'Clean Sheets', 'Status', 'Form'],\n",
       "      dtype='object')"
      ]
     },
     "execution_count": 3,
     "metadata": {},
     "output_type": "execute_result"
    }
   ],
   "source": [
    "df_fpl = pd.read_excel('First_Draft.xlsx')\n",
    "\n",
    "#Get the column names\n",
    "df_fpl.columns"
   ]
  },
  {
   "cell_type": "code",
   "execution_count": 4,
   "metadata": {},
   "outputs": [
    {
     "data": {
      "text/plain": [
       "Index(['Team', 'Player ID', 'First Name', 'Second Name', 'Web Name',\n",
       "       'Position', 'Start Price', 'Current Price', 'Selected By',\n",
       "       'Transfers In', 'Transfers Out', 'Total Points', 'Bonus', 'Minutes',\n",
       "       'Goals Scored', 'Assists', 'Clean Sheets', 'Status', 'Form',\n",
       "       'Understat_ID', 'FPL_ID', 'Understat_Name', 'FPL_Name'],\n",
       "      dtype='object')"
      ]
     },
     "execution_count": 4,
     "metadata": {},
     "output_type": "execute_result"
    }
   ],
   "source": [
    "# Merge df_fpl and df_understat using the player_id column and _FPL_id column\n",
    "df_fpl_understat = pd.merge(df_fpl, df_understat, left_on = \"Player ID\", right_on = \"FPL_ID\")\n",
    "\n",
    "#Get the column names\n",
    "df_fpl_understat.columns\n"
   ]
  },
  {
   "cell_type": "code",
   "execution_count": 5,
   "metadata": {},
   "outputs": [],
   "source": [
    "#keep only Understat_ID \n",
    "df_fpl_understat = df_fpl_understat[['Team', 'Player ID', 'First Name', 'Second Name', 'Web Name',\n",
    "    'Position', 'Start Price', 'Current Price', 'Selected By',\n",
    "    'Transfers In', 'Transfers Out', 'Form', 'Total Points', 'Bonus', 'Minutes',\n",
    "    'Goals Scored', 'Assists', 'Clean Sheets', 'Status', 'Understat_ID']]\n",
    "\n",
    "#convert Understat_ID to int\n",
    "df_fpl_understat['Understat_ID'] = df_fpl_understat['Understat_ID'].astype(int)"
   ]
  },
  {
   "cell_type": "markdown",
   "metadata": {},
   "source": [
    "pip install undetstatapi and import UnderstatClient (https://pypi.org/project/understatapi/)"
   ]
  },
  {
   "cell_type": "code",
   "execution_count": 6,
   "metadata": {},
   "outputs": [
    {
     "data": {
      "text/plain": [
       "Index(['id', 'player_name', 'games', 'time', 'goals', 'xG', 'assists', 'xA',\n",
       "       'shots', 'key_passes', 'yellow_cards', 'red_cards', 'position',\n",
       "       'team_title', 'npg', 'npxG', 'xGChain', 'xGBuildup'],\n",
       "      dtype='object')"
      ]
     },
     "execution_count": 6,
     "metadata": {},
     "output_type": "execute_result"
    }
   ],
   "source": [
    "from understatapi import UnderstatClient\n",
    "understat = UnderstatClient()\n",
    "\n",
    "#Change Season to 2022 when the season starts on 5th August\n",
    "league_player_data = understat.league(league=\"EPL\").get_player_data(season=\"2022\")\n",
    "\n",
    "# convert to pandas dataframe\n",
    "league_player_data = pd.DataFrame(league_player_data)\n",
    "league_player_data.columns"
   ]
  },
  {
   "cell_type": "code",
   "execution_count": 7,
   "metadata": {},
   "outputs": [],
   "source": [
    "#convert columns to int\n",
    "league_player_data['games'] = league_player_data['games'].astype(int)\n",
    "league_player_data['id'] = league_player_data['id'].astype(int)\n",
    "league_player_data['xG'] = league_player_data['xG'].astype(float)\n",
    "league_player_data['xA'] = league_player_data['xA'].astype(float)\n",
    "league_player_data['npxG'] = league_player_data['npxG'].astype(float)\n",
    "league_player_data['xGChain'] = league_player_data['xGChain'].astype(float)\n",
    "league_player_data['xGBuildup'] = league_player_data['xGBuildup'].astype(float)\n",
    "league_player_data['shots'] = league_player_data['shots'].astype(int)\n",
    "league_player_data['key_passes'] = league_player_data['key_passes'].astype(int)\n"
   ]
  },
  {
   "cell_type": "code",
   "execution_count": 8,
   "metadata": {},
   "outputs": [],
   "source": [
    "#merge with df_merged\n",
    "final_df= pd.merge(df_fpl_understat, league_player_data, left_on = \"Understat_ID\", right_on = \"id\")"
   ]
  },
  {
   "cell_type": "code",
   "execution_count": 9,
   "metadata": {},
   "outputs": [
    {
     "data": {
      "text/plain": [
       "Index(['Team', 'Player ID', 'First Name', 'Second Name', 'Web Name',\n",
       "       'Position', 'Start Price', 'Current Price', 'Selected By',\n",
       "       'Transfers In', 'Transfers Out', 'Form', 'Total Points', 'Bonus',\n",
       "       'Minutes', 'Goals Scored', 'Assists', 'Clean Sheets', 'Status',\n",
       "       'Understat_ID', 'id', 'player_name', 'games', 'time', 'goals', 'xG',\n",
       "       'assists', 'xA', 'shots', 'key_passes', 'yellow_cards', 'red_cards',\n",
       "       'position', 'team_title', 'npg', 'npxG', 'xGChain', 'xGBuildup'],\n",
       "      dtype='object')"
      ]
     },
     "execution_count": 9,
     "metadata": {},
     "output_type": "execute_result"
    }
   ],
   "source": [
    "final_df.columns"
   ]
  },
  {
   "cell_type": "code",
   "execution_count": 10,
   "metadata": {},
   "outputs": [],
   "source": [
    "final_df = final_df[['Player ID', 'Understat_ID','Team', 'First Name', 'Second Name', 'Web Name',\n",
    "    'Position', 'Start Price', 'Current Price', 'Selected By',\n",
    "    'Transfers In', 'Transfers Out', 'Form', 'Total Points', 'Bonus', 'games', 'Minutes',\n",
    "    'Goals Scored', 'xG', 'Assists', 'xA', 'npxG', 'xGChain', 'xGBuildup', 'Clean Sheets', 'Status']]"
   ]
  },
  {
   "cell_type": "code",
   "execution_count": 11,
   "metadata": {},
   "outputs": [],
   "source": [
    "#all numeric number to round to 2 decimal places\n",
    "final_df = final_df.round(2)"
   ]
  },
  {
   "cell_type": "code",
   "execution_count": 12,
   "metadata": {},
   "outputs": [
    {
     "data": {
      "text/plain": [
       "Index(['Player ID', 'Understat_ID', 'Team', 'First Name', 'Second Name',\n",
       "       'Web Name', 'Position', 'Start Price', 'Current Price', 'Selected By',\n",
       "       'Transfers In', 'Transfers Out', 'Form', 'Total Points', 'Bonus',\n",
       "       'games', 'Minutes', 'Goals Scored', 'xG', 'Assists', 'xA', 'npxG',\n",
       "       'xGChain', 'xGBuildup', 'Clean Sheets', 'Status'],\n",
       "      dtype='object')"
      ]
     },
     "execution_count": 12,
     "metadata": {},
     "output_type": "execute_result"
    }
   ],
   "source": [
    "final_df.columns"
   ]
  },
  {
   "cell_type": "code",
   "execution_count": 13,
   "metadata": {},
   "outputs": [],
   "source": [
    "#rename columns\n",
    "final_df.columns = ['Player ID', 'Understat_ID','Team', 'First Name', 'Second Name', 'Web Name',\n",
    "    'Position', 'Price Change', 'Current Price', 'Selected By', 'Transfers In', 'Transfers Out', 'Form','Total Points', 'Bonus', 'Matches', 'Minutes', 'Goals Scored', 'xG', 'Assists', 'xA', 'npxG','xGChain', 'xGBuildup', 'Clean Sheets', 'Status']"
   ]
  },
  {
   "cell_type": "code",
   "execution_count": 14,
   "metadata": {},
   "outputs": [],
   "source": [
    "#sort by Selected By and Total Points\n",
    "final_df = final_df.sort_values(by=['Selected By', 'Total Points'], ascending=False)\n",
    "final_df.head(10)\n",
    "import datetime\n",
    "final_df.to_excel('final_df '+str(datetime.datetime.today().strftime(\"%d-%m-%Y\"))+'.xlsx', index=False)"
   ]
  },
  {
   "cell_type": "code",
   "execution_count": null,
   "metadata": {},
   "outputs": [],
   "source": []
  }
 ],
 "metadata": {
  "kernelspec": {
   "display_name": "Python 3.8.8 ('base')",
   "language": "python",
   "name": "python3"
  },
  "language_info": {
   "codemirror_mode": {
    "name": "ipython",
    "version": 3
   },
   "file_extension": ".py",
   "mimetype": "text/x-python",
   "name": "python",
   "nbconvert_exporter": "python",
   "pygments_lexer": "ipython3",
   "version": "3.8.8"
  },
  "orig_nbformat": 4,
  "vscode": {
   "interpreter": {
    "hash": "40d3a090f54c6569ab1632332b64b2c03c39dcf918b08424e98f38b5ae0af88f"
   }
  }
 },
 "nbformat": 4,
 "nbformat_minor": 2
}
