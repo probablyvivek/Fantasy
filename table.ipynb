{
 "cells": [
  {
   "cell_type": "code",
   "execution_count": 1,
   "metadata": {},
   "outputs": [],
   "source": [
    "import matplotlib.pyplot as plt\n",
    "import pandas as pd\n",
    "import matplotlib.patches as patches\n",
    "import matplotlib.font_manager as font_manager\n",
    "import matplotlib as mpl"
   ]
  },
  {
   "cell_type": "code",
   "execution_count": 2,
   "metadata": {},
   "outputs": [],
   "source": [
    "\n",
    "font_dir = ['/Users/vivektiwari/Downloads/Poppins']\n",
    "for font in font_manager.findSystemFonts(font_dir):\n",
    "    font_manager.fontManager.addfont(font)\n",
    "\n",
    "# Set font family globally\n",
    "mpl.rcParams['font.family'] = 'Poppins'"
   ]
  },
  {
   "cell_type": "code",
   "execution_count": 3,
   "metadata": {},
   "outputs": [],
   "source": [
    "#xG and xGA for each team from fbref\n",
    "url = \"https://fbref.com/en/comps/9/Premier-League-Stats\"\n",
    "df_fbref = pd.read_html(url)[0]\n",
    "df_fbref = df_fbref.dropna(axis=1, how='all')\n",
    "df_fbref = df_fbref.drop(['Attendance', 'Top Team Scorer', 'Goalkeeper'], axis=1)\n"
   ]
  },
  {
   "cell_type": "code",
   "execution_count": 4,
   "metadata": {},
   "outputs": [],
   "source": [
    "df_fbref = df_fbref.iloc[::-1]"
   ]
  },
  {
   "cell_type": "code",
   "execution_count": 5,
   "metadata": {},
   "outputs": [
    {
     "name": "stderr",
     "output_type": "stream",
     "text": [
      "findfont: Font family ['Poppins'] not found. Falling back to DejaVu Sans.\n",
      "findfont: Font family ['Poppins'] not found. Falling back to DejaVu Sans.\n",
      "findfont: Font family ['Poppins'] not found. Falling back to DejaVu Sans.\n"
     ]
    }
   ],
   "source": [
    "import themepy\n",
    "\n",
    "theme = themepy.Theme()\n",
    "(theme\n",
    ".set_theme('neon')\n",
    ".set_font('Poppins')\n",
    ".set_pips(False)# we could set the tick marks on the x and y axis on or off here\n",
    ".set_spines(\"off\", which=[\"top\",\"right\",\"bottom\",\"left\"]) # we could show or hide the borders of the plot\n",
    ".set_ticklabel_size() # we could change the size of the x and y tick labels here\n",
    ".set_grid(\"off\") # we could set the grid on or off and set params like color and linewidth\n",
    ")\n",
    "\n",
    "\n",
    "\n",
    "fig, ax = plt.subplots(figsize=(12, 8))\n",
    "\n",
    "rows = 20\n",
    "cols = 7\n",
    "\n",
    "ax.set_ylim(-1, rows + 1)\n",
    "ax.set_xlim(0, cols + .5)\n",
    "\n",
    "for row in range(rows):\n",
    "    ax.plot([0, cols + 1], [row -.5, row - .5], ls=':', lw='.5', c='grey')\n",
    "\n",
    "# each key in the dict represents a column\n",
    "\n",
    "for row in range(rows):\n",
    "    d = df_fbref.iloc[row]\n",
    "\n",
    "\n",
    "    ax.text(x =0.5, y = row, s=d['Rk'], va ='center', ha = 'left')\n",
    "    ax.text(x=1, y=row, s=d['Squad'], va='center', ha='left')\n",
    "    ax.text(x=3, y=row, s=d['MP'], va='center', ha='center')\n",
    "    ax.text(x=4, y=row, s=d['W'], va='center', ha='center')\n",
    "    ax.text(x=5, y=row, s=d['xG'], va='center', ha='center')\n",
    "    ax.text(x=6, y=row, s=d['xGA'], va='center', ha='center')\n",
    "    ax.text(x=7, y=row, s=d['xGD'], va='center', ha='center')\n",
    "\n",
    "\n",
    "    ax.text(.6, 20.2, 'Rank', va='center', ha='center', fontsize=14, fontweight='bold')\n",
    "    ax.text(1, 20.2, 'Team', va='center', ha='left', fontsize=14, fontweight='bold')\n",
    "    ax.text(3, 20.2, 'Matches', va='center', ha='center', fontsize=14, fontweight='bold')\n",
    "    ax.text(4, 20.2, 'Wins', va='center', ha='center', fontsize=14, fontweight='bold')\n",
    "    ax.text(5, 20.2, 'xG', va='center', ha='center', fontsize=14, fontweight='bold')\n",
    "    ax.text(6, 20.2, 'xGA', va='center', ha='center', fontsize=14, fontweight='bold')\n",
    "    ax.text(7, 20.2, 'xGD', va='center', ha='center', fontsize=14, fontweight='bold')\n",
    "\n",
    "    #line after first row\n",
    "    if row == 19:\n",
    "        ax.plot([0, cols + 1], [row + .7, row + .7], ls='-', lw='1', c='grey')\n",
    "    \n",
    "    if row == 15:\n",
    "        ax.plot([0, cols + 1], [row + .45, row + .45], ls='-', lw='1', c='green')\n",
    "\n",
    "    if row == 2:\n",
    "        ax.plot([0, cols + 1], [row + .45, row + .45], ls='-', lw='1', c='red')\n",
    "\n",
    "\n",
    "    #if xGD is negative, make it in red rectangle else make it in green rectangle\n",
    "    if d['xGD'] < 0:\n",
    "        ax.add_patch(patches.Rectangle((6.6, row - .5), 0.74, 1, fill=True, color='#bc4b51', alpha=0.8))\n",
    "    else:\n",
    "        ax.add_patch(patches.Rectangle((6.6, row - .5), 0.74, 1, fill=True, color='#8cb369', alpha=0.8))\n",
    "\n",
    "    #x and y labels off\n",
    "    ax.tick_params(axis='x', which='both', bottom=False, top=False, labelbottom=False)\n",
    "    ax.tick_params(axis='y', which='both', left=False, right=False, labelleft=False)\n",
    "\n",
    "ax.set_title('English Premier League - (Season 2022-23)', fontsize=16, fontweight='bold', loc = 'left', pad = 10)\n",
    "\n",
    "# save the figure\n",
    "fig.savefig('fbref_plot.png', dpi=300, bbox_inches='tight')"
   ]
  },
  {
   "cell_type": "code",
   "execution_count": null,
   "metadata": {},
   "outputs": [],
   "source": []
  }
 ],
 "metadata": {
  "kernelspec": {
   "display_name": "Python 3.8.8 ('base')",
   "language": "python",
   "name": "python3"
  },
  "language_info": {
   "codemirror_mode": {
    "name": "ipython",
    "version": 3
   },
   "file_extension": ".py",
   "mimetype": "text/x-python",
   "name": "python",
   "nbconvert_exporter": "python",
   "pygments_lexer": "ipython3",
   "version": "3.8.8"
  },
  "orig_nbformat": 4,
  "vscode": {
   "interpreter": {
    "hash": "40d3a090f54c6569ab1632332b64b2c03c39dcf918b08424e98f38b5ae0af88f"
   }
  }
 },
 "nbformat": 4,
 "nbformat_minor": 2
}
